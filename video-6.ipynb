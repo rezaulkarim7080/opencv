{
 "cells": [
  {
   "cell_type": "markdown",
   "metadata": {},
   "source": [
    "## SCERREN RACODING --- PROJECT AND IMPLENTATION "
   ]
  },
  {
   "cell_type": "code",
   "execution_count": null,
   "metadata": {},
   "outputs": [],
   "source": [
    "import cv2 \n",
    "import pyautogui as p\n",
    "import numpy as np\n",
    "\n",
    "\n",
    "#create resulation\n",
    "rs = p.size()\n",
    "\n",
    "#filename in which we store recording\n",
    "fn = input(\"Please Enter any File Name and Path \")\n",
    "\n",
    "#Fix the frame rate \n",
    "fps = 60.0\n",
    "\n",
    "fourcc = cv2.VideoWriter_fourcc(*'XIVD')\n",
    "output =cv2.VideoWriter(fn,fourcc,fps,rs)\n",
    "\n",
    "\n",
    "#create recoding module\n",
    "cv2.namedWindow(\"Live_recoding\",cv2.WINDOW_NORMAL)\n",
    "cv2.resizeWindow(\"Live_recoding\",(800,600))\n",
    "\n",
    "while True:\n",
    "    img = p.screenshot()\n",
    "    f = np.array(img)\n",
    "    f = cv2.cvtColor(f,cv2.COLOR_BGR2RGB)\n",
    "    output.write(f)\n",
    "    cv2.imshow(\"Live_recoding\",f)\n",
    "    if cv2.waitKey(1) == ord(\"s\"):\n",
    "        break\n",
    "\n",
    "cv2.destroyAllWindows()\n",
    "output.release()\n",
    "\n",
    "# C:\\\\Users\\ripon\\\\Downloads\\\\Music.he.mp4"
   ]
  },
  {
   "cell_type": "markdown",
   "metadata": {},
   "source": [
    "## #Capture Multiple screenshot Images and Store in a folder"
   ]
  },
  {
   "cell_type": "code",
   "execution_count": null,
   "metadata": {},
   "outputs": [],
   "source": [
    "import cv2\n",
    "\n",
    "vidcap = cv2.VideoCapture(\"C:\\\\Users\\\\ripon\\\\Downloads\\\\Video\\\\peple.mp4\")\n",
    "ret,image = vidcap.read()#READ THE VIDEO\n",
    "\n",
    "\n",
    "\n",
    "count = 0\n",
    "\n",
    "while True:\n",
    "  if ret == True:\n",
    "      cv2.imwrite(\"D:\\\\Video\\\\imgNumber-%d.jpg\" %count, image)     # save frame as JPEG file\n",
    "      vidcap.set(cv2.CAP_PROP_POS_MSEC,(count**100))  #used to hold speed of frane generation\n",
    "      ret,image = vidcap.read()\n",
    "      cv2.imshow(\"res\",image)\n",
    "      print ('Read a new frame:',count ,ret)\n",
    "      count += 1\n",
    "      if cv2.waitKey(1) & 0xFF == ord(\"q\"):\n",
    "          break\n",
    "          cv2.destroyAllWindows()\n",
    "  else:\n",
    "      break\n",
    "\n",
    "vidcap.release() \n",
    "cv2.destroyAllWindows()  \n"
   ]
  }
 ],
 "metadata": {
  "kernelspec": {
   "display_name": "Python 3",
   "language": "python",
   "name": "python3"
  },
  "language_info": {
   "codemirror_mode": {
    "name": "ipython",
    "version": 3
   },
   "file_extension": ".py",
   "mimetype": "text/x-python",
   "name": "python",
   "nbconvert_exporter": "python",
   "pygments_lexer": "ipython3",
   "version": "3.12.0"
  }
 },
 "nbformat": 4,
 "nbformat_minor": 2
}
