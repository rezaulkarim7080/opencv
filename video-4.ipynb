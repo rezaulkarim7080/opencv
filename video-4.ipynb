{
 "cells": [
  {
   "cell_type": "markdown",
   "metadata": {},
   "source": [
    "# ---------------- OPENCV ----------------------"
   ]
  },
  {
   "cell_type": "markdown",
   "metadata": {},
   "source": [
    "# //////////////imgage show"
   ]
  },
  {
   "cell_type": "code",
   "execution_count": null,
   "metadata": {},
   "outputs": [],
   "source": [
    "import cv2\n",
    "\n",
    "img1 = cv2.imread(\"C:\\\\Users\\\\ripon\\\\Downloads\\\\assets\\\\asset 15.png\")\n",
    "img1 = cv2.resize(img1,(600,600))#widrh height\n",
    "print(img1)\n",
    "cv2.imshow(\"original\",img1)\n",
    "cv2.waitKey()\n",
    "cv2.destroyAllWindows()"
   ]
  },
  {
   "cell_type": "markdown",
   "metadata": {},
   "source": [
    "# ///////// Gray style image"
   ]
  },
  {
   "cell_type": "code",
   "execution_count": null,
   "metadata": {},
   "outputs": [],
   "source": [
    "img2 = cv2.imread(\"C:\\\\Users\\\\ripon\\\\Downloads\\\\assets\\\\asset 16.png\",2)\n",
    "img2 = cv2.resize(img2,(600,600))#widrh height\n",
    "print(img2)\n",
    "cv2.imshow(\"Gray style image show\",img2)\n",
    "cv2.waitKey(3000)##time how many milisecond it will show  \n",
    "cv2.destroyAllWindows()"
   ]
  },
  {
   "cell_type": "markdown",
   "metadata": {},
   "source": [
    "# //////////////////// PRACTICE input path and show image"
   ]
  },
  {
   "cell_type": "code",
   "execution_count": null,
   "metadata": {},
   "outputs": [],
   "source": [
    "# path = input(\"enter the path of the image : \")\n",
    "# print(\"enter your path \", path)\n",
    "# img2 = cv2.imread(path)\n",
    "\n",
    "img2 = cv2.imread(\"C:\\\\Users\\\\ripon\\\\Downloads\\\\assets\\\\asset 14.png\")\n",
    "img2 = cv2.resize(img2,(600,600))#widrh height\n",
    "img2 = cv2.flip(img2,0)# rotate image 0,-1,1\n",
    "print(img2)\n",
    "cv2.imshow(\"Gray style image show\",img2)\n",
    "\n",
    "k = cv2.waitKey(0)\n",
    "if k==ord(\"s\"):\n",
    "    cv2.imwrite(\"C:\\\\Users\\\\ripon\\\\asset 16.png\",img2)\n",
    "else:\n",
    "    cv2.destroyAllWindows()"
   ]
  },
  {
   "cell_type": "markdown",
   "metadata": {},
   "source": [
    "# //////////////////////////Blur IMAGE"
   ]
  },
  {
   "cell_type": "code",
   "execution_count": null,
   "metadata": {},
   "outputs": [],
   "source": [
    "import cv2\n",
    "\n",
    "img1 = cv2.imread(\"C:\\\\Users\\\\ripon\\\\Downloads\\\\assets\\\\asset 15.png\")\n",
    "img1 = cv2.resize(img1,(600,600))#widrh height\n",
    "# img1 = cv2.GaussianBlur(img1, (5, 5), 0) # Blur\n",
    "\n",
    "cv2.imshow(\"original\",img1)\n",
    "cv2.waitKey()\n",
    "cv2.destroyAllWindows()"
   ]
  },
  {
   "cell_type": "markdown",
   "metadata": {},
   "source": [
    "# ////////////////////--------VIDEO ----//////////////////////"
   ]
  },
  {
   "cell_type": "code",
   "execution_count": null,
   "metadata": {},
   "outputs": [],
   "source": [
    "import cv2\n",
    "\n",
    "cap = cv2.VideoCapture(\"C:\\\\Users\\\\ripon\\\\Downloads\\\\Video\\\\We Sold Our Startup & Filmed Everything!.mp4\")\n",
    "print(\"video cap\",cap)\n",
    "\n",
    "while True:\n",
    "    ret,frame = cap.read()\n",
    "    \n",
    "    frame = cv2.resize(frame,(600,600))\n",
    "    \n",
    "    # frame = cv2.resize(frame,(600,600))\n",
    "    # cv2.imshow(\"original frame video \",frame)\n",
    "    \n",
    "    gray = cv2.cvtColor(frame,cv2.COLOR_BGR2GRAY)\n",
    "    cv2.imshow(\" gray frame video \",gray)\n",
    "    \n",
    "    k =cv2.waitKey(25)\n",
    "    if k ==  ord(\"s\"):#// stop the video press s letter\n",
    "     break\n",
    "cap.release()\n",
    "cv2.destroyAllWindows()"
   ]
  },
  {
   "cell_type": "markdown",
   "metadata": {},
   "source": [
    "## Capture video from webcam and save into memory with opencv"
   ]
  },
  {
   "cell_type": "code",
   "execution_count": null,
   "metadata": {},
   "outputs": [],
   "source": [
    "import cv2\n",
    "\n",
    "cap = cv2.VideoCapture(0,cv2.CAP_DSHOW)\n",
    "print(cap)\n",
    "\n",
    "while cap.isOpened():\n",
    "    ret, frame = cap.read()\n",
    "    if ret == True:\n",
    "        frame = cv2.resize(frame,(1000,600))## width = height\n",
    "        gray = cv2.cvtColor(frame,cv2.COLOR_BGR2GRAY)\n",
    "        cv2.imshow('frame is',frame)\n",
    "        # cv2.imshow(\" gray \",gray) ## for gray frame\n",
    "        k = cv2.waitKey(100)\n",
    "        if k == ord(\"q\") & 0xFF:\n",
    "            break\n",
    "\n",
    "cap.release()\n",
    "cv2.destroyAllWindows()\n",
    "\n",
    "    \n"
   ]
  },
  {
   "cell_type": "markdown",
   "metadata": {},
   "source": [
    "## Capture & save video from webcam and save into memory with opencv"
   ]
  },
  {
   "cell_type": "code",
   "execution_count": null,
   "metadata": {},
   "outputs": [],
   "source": [
    "import cv2\n",
    "\n",
    "cap = cv2.VideoCapture(0,cv2.CAP_DSHOW)   #Here parameter 0 is a path of any video use for webcam\n",
    "print(\"check===\",cap.isOpened())\n",
    "\n",
    "#it is 4 byte code which is use to specify the video codec\n",
    "#Various codec -- \n",
    "\n",
    "#DIVX, XVID, MJPG, X264, WMV1, WMV2\n",
    "fourcc = cv2.VideoWriter_fourcc(*\"XVID\")  # *\"XVID\"\n",
    "\n",
    "#It contain 4 parameter , name, codec,fps,resolution\n",
    "output = cv2.VideoWriter(\"output.avi\",fourcc,20.0,(1000,600))# colorful\n",
    "# output = cv2.VideoWriter(\"output.avi\",fourcc,20.0,(1000,600),0)# gray\n",
    "\n",
    "while(cap.isOpened()):\n",
    "    ret, frame = cap.read()   #here read the frame\n",
    "    \n",
    "    if ret==True:\n",
    "        \n",
    "        gray  = cv2.cvtColor(frame,cv2.COLOR_BGR2GRAY)\n",
    "        #here flip is used to lip the video at recording time\n",
    "        # frame = cv2.flip(frame,0)\n",
    "\n",
    "        frame = cv2.resize(frame,(1000,600))## width = height\n",
    "\n",
    "        # output.write(frame)\n",
    "        output.write(gray)\n",
    "\n",
    "        cv2.imshow(\"Gray Frame\",gray)\n",
    "        cv2.imshow('Colorframe',frame)\n",
    "\n",
    "\n",
    "        if cv2.waitKey(1) & 0xFF == ord('q'):   #press to exit\n",
    "            break\n",
    "    else:\n",
    "        break\n",
    " \n",
    "# Release everything if job is finished\n",
    "cap.release()\n",
    "output.release()\n",
    "cv2.destroyAllWindows()\n"
   ]
  }
 ],
 "metadata": {
  "kernelspec": {
   "display_name": "Python 3",
   "language": "python",
   "name": "python3"
  },
  "language_info": {
   "codemirror_mode": {
    "name": "ipython",
    "version": 3
   },
   "file_extension": ".py",
   "mimetype": "text/x-python",
   "name": "python",
   "nbconvert_exporter": "python",
   "pygments_lexer": "ipython3",
   "version": "3.12.0"
  }
 },
 "nbformat": 4,
 "nbformat_minor": 2
}
