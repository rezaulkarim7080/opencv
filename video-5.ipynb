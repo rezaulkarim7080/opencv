{
 "cells": [
  {
   "cell_type": "markdown",
   "metadata": {},
   "source": [
    "### Video Capture From Different Sources | Image Processing | OpenCV Mobile camera connect|"
   ]
  },
  {
   "cell_type": "code",
   "execution_count": null,
   "metadata": {},
   "outputs": [],
   "source": [
    "import cv2\n",
    "camera = \"http://192.168.0.102:8080/video\"\n",
    "#connect your laptop and android device with same network either wifi or hotspot\n",
    "cap = cv2.VideoCapture(0)   #Here parameter 0 is a path of any video use for webcam\n",
    "cap.open(camera)\n",
    "print(\"check===\",cap.isOpened())\n",
    "#it is 4 byte code which is use to specify the video codec\n",
    "fourcc = cv2.VideoWriter_fourcc(*\"XVID\")  # *\"XVID\"\n",
    "#It contain 4 parameter , name, codec,fps,resolution\n",
    "# output = cv2.VideoWriter(\"output.avi\",fourcc,20.0,(640,480),0)\n",
    "output = cv2.VideoWriter(\"output.mp4\",fourcc,20.0,(640,480))\n",
    "\n",
    "while(cap.isOpened()):\n",
    "    ret, frame = cap.read()   #here read the frame\n",
    "    if ret == True:\n",
    "    \n",
    "        frame = cv2.resize(frame,(700,700))\n",
    "        gray  = cv2.cvtColor(frame,cv2.COLOR_BGR2GRAY)\n",
    "        cv2.imshow(\"Gray Frame\",gray)\n",
    "        cv2.imshow('Colorframe',frame)\n",
    "\n",
    "        output.write(frame)\n",
    "\n",
    "        if cv2.waitKey(1) & 0xFF == ord('q'):   #press to exit\n",
    "            break\n",
    "    \n",
    " \n",
    "# Release everything if job is finished\n",
    "cap.release()\n",
    "output.release()\n",
    "cv2.destroyAllWindows()"
   ]
  },
  {
   "cell_type": "markdown",
   "metadata": {},
   "source": [
    "## #Capture video from youtube"
   ]
  },
  {
   "cell_type": "code",
   "execution_count": null,
   "metadata": {},
   "outputs": [],
   "source": [
    "import pafy      #open anaconda prompt and type pip install pafy\n",
    "import cv2\n",
    "import youtube_dl\n",
    "\n",
    "url = \"https://www.youtube.com/watch?v=OBXpRJXj3BQ\"\n",
    "data = pafy.new(url)\n",
    "data = data.getbest(preftype = \"mp4\")\n",
    "cap = cv2.VideoCapture(0,cv2.CAP_DSHOW)   #Here parameter 0 is a path of any video use for webcam\n",
    "cap.open(data.url)\n",
    "\n",
    "print(\"check===\",cap.isOpened())\n",
    "\n",
    "#it is 4 byte code which is use to specify the video codec\n",
    "fourcc = cv2.VideoWriter_fourcc(*\"XVID\")  # *\"XVID\"\n",
    "#It contain 4 parameter , name, codec,fps,resolution\n",
    "# output = cv2.VideoWriter(\"video5.avi\",fourcc,20.0,(640,480))\n",
    "\n",
    "while(cap.isOpened()):\n",
    "    ret, frame = cap.read()   #here read the frame\n",
    "    if ret==True:\n",
    "        frame = cv2.resize(frame,(700,700))\n",
    "        gray  = cv2.cvtColor(frame,cv2.COLOR_BGR2GRAY)\n",
    "        #here flip is used to lip the video at recording time\n",
    "        #frame = cv2.flip(frame,0)\n",
    "        #output.write(gray)\n",
    "        \n",
    "        cv2.imshow(\"Gray Frame\",gray)\n",
    "        cv2.imshow('Colorframe',frame)\n",
    "        if cv2.waitKey(1) & 0xFF == ord('q'):   #press to exit\n",
    "            break\n",
    "    else:\n",
    "        break\n",
    " \n",
    "# Release everything if job is finished\n",
    "cap.release()\n",
    "# output.release()\n",
    "cv2.destroyAllWindows()\n",
    "\n",
    "#if any os error regarding youtube-dl occur thn\n",
    "#conda install -c forge youtube-dl\n",
    "#pip3 install youtube-dl\n"
   ]
  }
 ],
 "metadata": {
  "kernelspec": {
   "display_name": "Python 3",
   "language": "python",
   "name": "python3"
  },
  "language_info": {
   "codemirror_mode": {
    "name": "ipython",
    "version": 3
   },
   "file_extension": ".py",
   "mimetype": "text/x-python",
   "name": "python",
   "nbconvert_exporter": "python",
   "pygments_lexer": "ipython3",
   "version": "3.12.0"
  }
 },
 "nbformat": 4,
 "nbformat_minor": 2
}
