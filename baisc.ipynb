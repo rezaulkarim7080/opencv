{
 "cells": [
  {
   "cell_type": "code",
   "execution_count": null,
   "id": "d47c75ec",
   "metadata": {},
   "outputs": [],
   "source": [
    "## Capture video from webcam and save into memory with opencv"
   ]
  },
  {
   "cell_type": "code",
   "execution_count": 1,
   "id": "13a9b9d4",
   "metadata": {},
   "outputs": [
    {
     "name": "stdout",
     "output_type": "stream",
     "text": [
      "< cv2.VideoCapture 000001B4572E1430>\n"
     ]
    }
   ],
   "source": [
    "import cv2\n",
    "\n",
    "cap = cv2.VideoCapture(0,cv2.CAP_DSHOW)\n",
    "print(cap)\n",
    "\n",
    "while cap.isOpened():\n",
    "    ret, frame = cap.read()\n",
    "    if ret == True:\n",
    "        frame = cv2.resize(frame,(1000,600))## width = height\n",
    "        gray = cv2.cvtColor(frame,cv2.COLOR_BGR2GRAY)\n",
    "        cv2.imshow('frame is',frame)\n",
    "        # cv2.imshow(\" gray \",gray) ## for gray frame\n",
    "        k = cv2.waitKey(100)\n",
    "        if k == ord(\"q\") & 0xFF:\n",
    "            break\n",
    "\n",
    "cap.release()\n",
    "cv2.destroyAllWindows()\n",
    "\n",
    "    \n"
   ]
  }
 ],
 "metadata": {
  "kernelspec": {
   "display_name": "Python 3 (ipykernel)",
   "language": "python",
   "name": "python3"
  },
  "language_info": {
   "codemirror_mode": {
    "name": "ipython",
    "version": 3
   },
   "file_extension": ".py",
   "mimetype": "text/x-python",
   "name": "python",
   "nbconvert_exporter": "python",
   "pygments_lexer": "ipython3",
   "version": "3.12.0"
  }
 },
 "nbformat": 4,
 "nbformat_minor": 5
}
